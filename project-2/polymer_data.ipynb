{
 "cells": [
  {
   "cell_type": "markdown",
   "metadata": {},
   "source": [
    "# Data for MD simulation of polymer folding"
   ]
  },
  {
   "cell_type": "code",
   "execution_count": null,
   "metadata": {},
   "outputs": [],
   "source": [
    "import numpy as np\n",
    "import polymer as p\n",
    "np.random.seed(42)\n",
    "\n",
    "from scipy import constants\n",
    "\n",
    "#Simulation parameters\n",
    "k_B = constants.k\n",
    "dt = 0.01  # Time step\n",
    "total_steps = 10000  # Number of steps\n",
    "box_size = 100.0  # Size of the cubic box\n",
    "k = 1.0  # Spring constant\n",
    "mass = 1.0  # Particle mass\n",
    "r0 = 1.0  # Equilibrium bond length\n",
    "target_temperature = 0.1  # Target temperature\n",
    "rescale_interval = 100  # Steps between velocity rescaling\n",
    "n_particles = 20  # Number of particles\n",
    "epsilon_repulsive = 1.0  # Depth of repulsive LJ potential\n",
    "epsilon_attractive = 0.5  # Depth of attractive LJ potential\n",
    "sigma = 1.0  # LJ potential parameter\n",
    "cutoff = (2 ** (1 /6)) * sigma"
   ]
  },
  {
   "cell_type": "code",
   "execution_count": null,
   "metadata": {},
   "outputs": [],
   "source": [
    "# Initialize positions and velocities\n",
    "positions = p.initialize_chain(n_particles, box_size, r0)\n",
    "velocities = p.initialize_velocities(n_particles, target_temperature, mass)\n",
    "\n",
    "# Simulation loop\n",
    "for step in range(total_steps):\n",
    "    # Compute forces\n",
    "    forces_harmonic = p.compute_harmonic_forces(positions, k, r0, box_size)\n",
    "    forces_repulsive = p.compute_lennard_jones_forces(positions, epsilon_repulsive, sigma, box_size, 'repulsive')\n",
    "    forces_attractive = p.compute_lennard_jones_forces(positions, epsilon_attractive, sigma, box_size, 'attractive')\n",
    "    total_forces = forces_harmonic + forces_repulsive + forces_attractive\n",
    "    \n",
    "    # Integrate equations of motion\n",
    "    positions, velocities, total_forces = p.velocity_verlet(positions, velocities, total_forces, dt, mass)\n",
    "    \n",
    "    # Apply thermostat\n",
    "    if step % rescale_interval == 0:\n",
    "        velocities = p.rescale_velocities(velocities, target_temperature, mass)"
   ]
  }
 ],
 "metadata": {
  "kernelspec": {
   "display_name": "Python 3",
   "language": "python",
   "name": "python3"
  },
  "language_info": {
   "name": "python",
   "version": "3.12.5"
  }
 },
 "nbformat": 4,
 "nbformat_minor": 2
}
